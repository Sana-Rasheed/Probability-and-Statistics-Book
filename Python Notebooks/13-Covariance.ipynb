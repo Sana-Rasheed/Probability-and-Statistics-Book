{
  "nbformat": 4,
  "nbformat_minor": 0,
  "metadata": {
    "colab": {
      "name": "Covariance.ipynb",
      "provenance": [],
      "collapsed_sections": []
    },
    "kernelspec": {
      "name": "python3",
      "display_name": "Python 3"
    },
    "language_info": {
      "name": "python"
    }
  },
  "cells": [
    {
      "cell_type": "code",
      "execution_count": 1,
      "metadata": {
        "colab": {
          "base_uri": "https://localhost:8080/"
        },
        "id": "78Ol8bx4GNRD",
        "outputId": "4f66b56b-3165-4c89-cd9d-dbc8fea00500"
      },
      "outputs": [
        {
          "output_type": "stream",
          "name": "stdout",
          "text": [
            "Shape of array:\n",
            " (3, 3)\n",
            "Covariance matrix of x:\n",
            " [[4.33333333 2.83333333 2.        ]\n",
            " [2.83333333 2.33333333 1.5       ]\n",
            " [2.         1.5        1.        ]]\n"
          ]
        }
      ],
      "source": [
        "# Python code to demonstrate the\n",
        "# use of numpy.cov\n",
        "import numpy as np\n",
        "\n",
        "x = np.array([[0, 3, 4], [1, 2, 4], [3, 4, 5]])\n",
        "\n",
        "print(\"Shape of array:\\n\", np.shape(x))\n",
        "\n",
        "print(\"Covariance matrix of x:\\n\", np.cov(x))\n"
      ]
    },
    {
      "cell_type": "code",
      "source": [
        ""
      ],
      "metadata": {
        "id": "-onzhMJ_GSl1"
      },
      "execution_count": null,
      "outputs": []
    }
  ]
}