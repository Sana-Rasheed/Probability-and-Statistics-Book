{
  "nbformat": 4,
  "nbformat_minor": 0,
  "metadata": {
    "colab": {
      "name": "Spearman's Rank correlation.ipynb",
      "provenance": [],
      "collapsed_sections": []
    },
    "kernelspec": {
      "name": "python3",
      "display_name": "Python 3"
    },
    "language_info": {
      "name": "python"
    }
  },
  "cells": [
    {
      "cell_type": "code",
      "execution_count": 1,
      "metadata": {
        "colab": {
          "base_uri": "https://localhost:8080/"
        },
        "id": "ieEf8tlZgBjK",
        "outputId": "644b0fde-c191-4efa-8b39-22028e888920"
      },
      "outputs": [
        {
          "output_type": "stream",
          "name": "stdout",
          "text": [
            "Rankings of X:\n",
            "0    1.5\n",
            "1    3.0\n",
            "2    4.5\n",
            "3    1.5\n",
            "4    4.5\n",
            "dtype: float64\n",
            "Rankings of Y:\n",
            "0    1.5\n",
            "1    1.5\n",
            "2    4.0\n",
            "3    4.0\n",
            "4    4.0\n",
            "dtype: float64\n",
            "Spearman's Rank correlation: 0.4564354645876384\n"
          ]
        }
      ],
      "source": [
        "# Import pandas and scipy.stats\n",
        "import pandas as pd\n",
        "import scipy.stats\n",
        "\n",
        "# Two lists x and y\n",
        "x = [15,18,21, 15, 21]\n",
        "y = [25,25,27,27,27]\n",
        "\n",
        "# Create a function that takes in x's and y's\n",
        "def spearmans_rank_correlation(x, y):\n",
        "\t\n",
        "\t# Calculate the rank of x's\n",
        "\txranks = pd.Series(x).rank()\n",
        "\tprint(\"Rankings of X:\")\n",
        "\tprint(xranks)\n",
        "\t\n",
        "\t# Calculate the ranking of the y's\n",
        "\tyranks = pd.Series(y).rank()\n",
        "\tprint(\"Rankings of Y:\")\n",
        "\tprint(yranks)\n",
        "\t\n",
        "\t# Calculate Spearman's correlation coefficient on the ranked versions of the data\n",
        "\tprint(\"Spearman's Rank correlation:\",scipy.stats.pearsonr(xranks, yranks)[0])\n",
        "\n",
        "# Call the function\n",
        "spearmans_rank_correlation(x, y)\n"
      ]
    },
    {
      "cell_type": "code",
      "source": [
        ""
      ],
      "metadata": {
        "id": "qBZhIJjIgGe_"
      },
      "execution_count": null,
      "outputs": []
    }
  ]
}