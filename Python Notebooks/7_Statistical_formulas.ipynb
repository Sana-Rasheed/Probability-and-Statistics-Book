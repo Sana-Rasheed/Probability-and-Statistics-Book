{
  "nbformat": 4,
  "nbformat_minor": 0,
  "metadata": {
    "colab": {
      "name": "7- Statistical formulas.ipynb",
      "provenance": [],
      "collapsed_sections": []
    },
    "kernelspec": {
      "name": "python3",
      "display_name": "Python 3"
    },
    "language_info": {
      "name": "python"
    }
  },
  "cells": [
    {
      "cell_type": "markdown",
      "source": [
        "## Mean\n"
      ],
      "metadata": {
        "id": "uM6ngJM38myB"
      }
    },
    {
      "cell_type": "code",
      "source": [
        "import numpy as np\n",
        "import pandas as pd\n",
        "data=np.array([1,5,4,5,8,1,2,3,4])\n",
        "print(\"The mean of the data point is \",data.mean())\n"
      ],
      "metadata": {
        "colab": {
          "base_uri": "https://localhost:8080/"
        },
        "id": "U92Oo3Sw8soy",
        "outputId": "95a27c28-800f-4821-f5d5-032306292104"
      },
      "execution_count": null,
      "outputs": [
        {
          "output_type": "stream",
          "name": "stdout",
          "text": [
            "The mean of the data point is  3.6666666666666665\n"
          ]
        }
      ]
    },
    {
      "cell_type": "code",
      "source": [
        "import numpy as np\n",
        "import pandas as pd\n",
        "data=np.array([1,5,4,5,8,1,2,3,4,50])\n",
        "print(\"The mean of the data point is \",data.mean())"
      ],
      "metadata": {
        "colab": {
          "base_uri": "https://localhost:8080/"
        },
        "id": "KMitnTw68wlT",
        "outputId": "79a86587-d27b-4935-a26a-acc958a1f67a"
      },
      "execution_count": null,
      "outputs": [
        {
          "output_type": "stream",
          "name": "stdout",
          "text": [
            "The mean of the data point is  8.3\n"
          ]
        }
      ]
    },
    {
      "cell_type": "markdown",
      "source": [
        "## Mode"
      ],
      "metadata": {
        "id": "_9PcvuET8909"
      }
    },
    {
      "cell_type": "code",
      "source": [
        "import numpy as np\n",
        "import statistics\n",
        "data=np.array([1,5,4,8,1,2,3,9])\n",
        "print(\"The mode of the data point is \",statistics.mode(data))\n"
      ],
      "metadata": {
        "colab": {
          "base_uri": "https://localhost:8080/"
        },
        "id": "bf49rXfE9Der",
        "outputId": "c8d7b785-5040-4621-a99a-fb220b4c6d68"
      },
      "execution_count": null,
      "outputs": [
        {
          "output_type": "stream",
          "name": "stdout",
          "text": [
            "The mode of the data point is  1\n"
          ]
        }
      ]
    },
    {
      "cell_type": "markdown",
      "source": [
        "## Median"
      ],
      "metadata": {
        "id": "iIjXBdFS9K1z"
      }
    },
    {
      "cell_type": "code",
      "source": [
        "import numpy as np\n",
        "import statistics\n",
        "data=np.array([1,5,4,8,1,2,3,9,7])\n",
        "print(\"The mode of the data point is \",statistics.median(data))\n"
      ],
      "metadata": {
        "colab": {
          "base_uri": "https://localhost:8080/"
        },
        "id": "7rCVWpSs9Qpi",
        "outputId": "8721d0d5-58a9-4332-ca5e-83e784c3e0c6"
      },
      "execution_count": null,
      "outputs": [
        {
          "output_type": "stream",
          "name": "stdout",
          "text": [
            "The mode of the data point is  4\n"
          ]
        }
      ]
    },
    {
      "cell_type": "code",
      "source": [
        "import numpy as np\n",
        "import statistics\n",
        "data=np.array([1,5,4,8,1,2,3,9])\n",
        "print(\"The mode of the data point is \",statistics.median(data))"
      ],
      "metadata": {
        "colab": {
          "base_uri": "https://localhost:8080/"
        },
        "id": "notOWqid9StQ",
        "outputId": "3a802b74-eb6e-4aa8-b76c-cd81d4115192"
      },
      "execution_count": null,
      "outputs": [
        {
          "output_type": "stream",
          "name": "stdout",
          "text": [
            "The mode of the data point is  3.5\n"
          ]
        }
      ]
    },
    {
      "cell_type": "markdown",
      "source": [
        "##  Variance"
      ],
      "metadata": {
        "id": "PdbE89in9l8x"
      }
    },
    {
      "cell_type": "code",
      "source": [
        "import numpy as np\n",
        "import statistics\n",
        "X=np.array([3,8,6,10,12,9,11,10,12,7])\n",
        "print(\"The variance is: \",statistics.variance(X))"
      ],
      "metadata": {
        "colab": {
          "base_uri": "https://localhost:8080/"
        },
        "id": "6YZZu6F59y7A",
        "outputId": "31ee80a9-2f25-4030-97e8-270c483ba958"
      },
      "execution_count": null,
      "outputs": [
        {
          "output_type": "stream",
          "name": "stdout",
          "text": [
            "The variance is:  8\n"
          ]
        }
      ]
    },
    {
      "cell_type": "markdown",
      "source": [
        "## Standard Deviation\n"
      ],
      "metadata": {
        "id": "QHyF6dG_94O-"
      }
    },
    {
      "cell_type": "code",
      "source": [
        "import numpy as np\n",
        "import statistics\n",
        "X=np.array([3,8,6,10,12,9,11,10,12,7])\n",
        "print(\"The variance is: \",statistics.stdev(X))"
      ],
      "metadata": {
        "colab": {
          "base_uri": "https://localhost:8080/"
        },
        "id": "CHgGJ77u95Vp",
        "outputId": "6d25f02b-3131-4ae6-dca7-8cfdf5d594ba"
      },
      "execution_count": null,
      "outputs": [
        {
          "output_type": "stream",
          "name": "stdout",
          "text": [
            "The variance is:  2.8284271247461903\n"
          ]
        }
      ]
    },
    {
      "cell_type": "markdown",
      "source": [
        "## Range"
      ],
      "metadata": {
        "id": "-JtSLt1V-CW6"
      }
    },
    {
      "cell_type": "code",
      "source": [
        "import numpy as np\n",
        "x=np.array([4,6,9,3,7])\n",
        "print(\"The range is: \",max(x)-min(x))"
      ],
      "metadata": {
        "colab": {
          "base_uri": "https://localhost:8080/"
        },
        "id": "NRGRZFws-C8g",
        "outputId": "7b215db6-b4fb-4532-a131-ecae3e59fb0d"
      },
      "execution_count": null,
      "outputs": [
        {
          "output_type": "stream",
          "name": "stdout",
          "text": [
            "The range is:  6\n"
          ]
        }
      ]
    },
    {
      "cell_type": "markdown",
      "source": [
        "## Mid range"
      ],
      "metadata": {
        "id": "UL-WZXSD-onn"
      }
    },
    {
      "cell_type": "code",
      "source": [
        "import numpy as np\n",
        "x=np.array([4,6,9,3,7])\n",
        "print(\"The midrange is: \",(max(x)+min(x))/2)"
      ],
      "metadata": {
        "colab": {
          "base_uri": "https://localhost:8080/"
        },
        "id": "KQOp17Y5-tX0",
        "outputId": "593cca73-857f-489f-c479-50ae6dbaf03a"
      },
      "execution_count": null,
      "outputs": [
        {
          "output_type": "stream",
          "name": "stdout",
          "text": [
            "The midrange is:  6.0\n"
          ]
        }
      ]
    },
    {
      "cell_type": "markdown",
      "source": [
        "## Percentile"
      ],
      "metadata": {
        "id": "QP7fT3g1-96-"
      }
    },
    {
      "cell_type": "code",
      "source": [
        "import numpy as np\n",
        "data=range(0,101)\n",
        "print(\"1st percentile of data is: \",np.percentile(data,1))\n",
        "print(\"5th percentile of data is: \",np.percentile(data,5))\n",
        "print(\"25th percentile of data is: \",np.percentile(data,25))\n",
        "print(\"50th percentile of data is: \",np.percentile(data,50))\n",
        "print(\"75th percentile of data is: \",np.percentile(data,75))\n",
        "print(\"100th percentile of data is: \",np.percentile(data,100))"
      ],
      "metadata": {
        "colab": {
          "base_uri": "https://localhost:8080/"
        },
        "id": "oHTO9CN3--oV",
        "outputId": "68d049c1-afe1-4df2-f563-30fb164bf31e"
      },
      "execution_count": null,
      "outputs": [
        {
          "output_type": "stream",
          "name": "stdout",
          "text": [
            "1st percentile of data is:  1.0\n",
            "5th percentile of data is:  5.0\n",
            "25th percentile of data is:  25.0\n",
            "50th percentile of data is:  50.0\n",
            "75th percentile of data is:  75.0\n",
            "100th percentile of data is:  100.0\n"
          ]
        }
      ]
    },
    {
      "cell_type": "code",
      "source": [
        "import numpy as np\n",
        "data=range(0,501)\n",
        "print(\"1st percentile of data is: \",np.percentile(data,1))\n",
        "print(\"5th percentile of data is: \",np.percentile(data,5))\n",
        "print(\"25th percentile of data is: \",np.percentile(data,25))\n",
        "print(\"50th percentile of data is: \",np.percentile(data,50))\n",
        "print(\"75th percentile of data is: \",np.percentile(data,75))\n",
        "print(\"100th percentile of data is: \",np.percentile(data,100))"
      ],
      "metadata": {
        "colab": {
          "base_uri": "https://localhost:8080/"
        },
        "id": "tU1PcZK__DqG",
        "outputId": "a20631f4-123e-4510-9557-461b8f1ff4b6"
      },
      "execution_count": null,
      "outputs": [
        {
          "output_type": "stream",
          "name": "stdout",
          "text": [
            "1st percentile of data is:  5.0\n",
            "5th percentile of data is:  25.0\n",
            "25th percentile of data is:  125.0\n",
            "50th percentile of data is:  250.0\n",
            "75th percentile of data is:  375.0\n",
            "100th percentile of data is:  500.0\n"
          ]
        }
      ]
    },
    {
      "cell_type": "markdown",
      "source": [
        "## Quartile"
      ],
      "metadata": {
        "id": "etIDSjKQ_L_d"
      }
    },
    {
      "cell_type": "code",
      "source": [
        "import numpy as np\n",
        "data=range(0,101)\n",
        "print(\"Q1 of data is: \",np.quantile(data,0.25))\n",
        "print(\"Q2 of data is: \",np.quantile(data,0.50))\n",
        "print(\"Q3 of data is: \",np.quantile(data,0.75))\n",
        "print(\"Q4 of data is: \",np.quantile(data,0.1))"
      ],
      "metadata": {
        "colab": {
          "base_uri": "https://localhost:8080/"
        },
        "id": "XicnZkxs_PIF",
        "outputId": "535ced88-b048-43d7-926f-8a41dc72a35c"
      },
      "execution_count": null,
      "outputs": [
        {
          "output_type": "stream",
          "name": "stdout",
          "text": [
            "Q1 of data is:  25.0\n",
            "Q2 of data is:  50.0\n",
            "Q3 of data is:  75.0\n",
            "Q4 of data is:  10.0\n"
          ]
        }
      ]
    },
    {
      "cell_type": "code",
      "source": [
        "import numpy as np\n",
        "data=range(0,501)\n",
        "print(\"Q1 of data is: \",np.quantile(data,0.25))\n",
        "print(\"Q2 of data is: \",np.quantile(data,0.50))\n",
        "print(\"Q3 of data is: \",np.quantile(data,0.75))\n",
        "print(\"Q4 of data is: \",np.quantile(data,0.1))"
      ],
      "metadata": {
        "colab": {
          "base_uri": "https://localhost:8080/"
        },
        "id": "9eicO5ib_SLw",
        "outputId": "f5c9024c-c36f-42e5-bcb8-6bebf5d2fd09"
      },
      "execution_count": null,
      "outputs": [
        {
          "output_type": "stream",
          "name": "stdout",
          "text": [
            "Q1 of data is:  125.0\n",
            "Q2 of data is:  250.0\n",
            "Q3 of data is:  375.0\n",
            "Q4 of data is:  50.0\n"
          ]
        }
      ]
    },
    {
      "cell_type": "markdown",
      "source": [
        "## Interquartile Range(IQR)"
      ],
      "metadata": {
        "id": "22UJQJAL_iYg"
      }
    },
    {
      "cell_type": "code",
      "source": [
        "from scipy import stats\n",
        "data = [32, 36, 46, 47, 56, 69, 75, 79, 79, 88, 89, 91, 92, 93, 96, 97, 101, 105, 112, 116]\n",
        "IQR = stats.iqr(data)\n",
        "print(IQR)"
      ],
      "metadata": {
        "colab": {
          "base_uri": "https://localhost:8080/"
        },
        "id": "VbTpwnlf_nIn",
        "outputId": "f7088e39-ce3c-4850-fd96-9ce5e63f442b"
      },
      "execution_count": null,
      "outputs": [
        {
          "output_type": "stream",
          "name": "stdout",
          "text": [
            "30.5\n"
          ]
        }
      ]
    },
    {
      "cell_type": "markdown",
      "source": [
        "### Box Plot"
      ],
      "metadata": {
        "id": "nEFocCADhoS1"
      }
    },
    {
      "cell_type": "code",
      "source": [
        "# Import libraries\n",
        "import matplotlib.pyplot as plt\n",
        "import numpy as np\n",
        "\n",
        "\n",
        "# Creating dataset\n",
        "np.random.seed(10)\n",
        "data = np.random.normal(100, 20, 200)\n",
        "\n",
        "fig = plt.figure(figsize =(10, 7))\n",
        "\n",
        "# Creating plot\n",
        "plt.boxplot(data)\n",
        "\n",
        "# show plot\n",
        "plt.show()\n"
      ],
      "metadata": {
        "id": "g7B0YNk8_rLo",
        "colab": {
          "base_uri": "https://localhost:8080/",
          "height": 428
        },
        "outputId": "7cb249bc-1b3c-4ad2-faa3-0b10237a5b92"
      },
      "execution_count": null,
      "outputs": [
        {
          "output_type": "display_data",
          "data": {
            "image/png": "[encoded data removed]",
            "text/plain": [
              "<Figure size 720x504 with 1 Axes>"
            ]
          },
          "metadata": {
            "needs_background": "light"
          }
        }
      ]
    },
    {
      "cell_type": "code",
      "source": [
        "# Import libraries\n",
        "import matplotlib.pyplot as plt\n",
        "import numpy as np\n",
        "\n",
        "\n",
        "# Creating dataset\n",
        "np.random.seed(10)\n",
        "\n",
        "data_1 = np.random.normal(100, 10, 200)\n",
        "data_2 = np.random.normal(90, 20, 200)\n",
        "data_3 = np.random.normal(80, 30, 200)\n",
        "data_4 = np.random.normal(70, 40, 200)\n",
        "data = [data_1, data_2, data_3, data_4]\n",
        "\n",
        "fig = plt.figure(figsize =(10, 7))\n",
        "\n",
        "# Creating axes instance\n",
        "ax = fig.add_axes([0, 0, 1, 1])\n",
        "\n",
        "# Creating plot\n",
        "bp = ax.boxplot(data)\n",
        "\n",
        "# show plot\n",
        "plt.show()\n"
      ],
      "metadata": {
        "colab": {
          "base_uri": "https://localhost:8080/",
          "height": 552
        },
        "id": "XBxz3Ftbhz-S",
        "outputId": "73d8c90f-7631-46d6-99ca-42530849057b"
      },
      "execution_count": null,
      "outputs": [
        {
          "output_type": "display_data",
          "data": {
            "image/png": "[encoded data removed]",
            "text/plain": [
              "<Figure size 720x504 with 1 Axes>"
            ]
          },
          "metadata": {
            "needs_background": "light"
          }
        }
      ]
    },
    {
      "cell_type": "code",
      "source": [
        "# Import libraries\n",
        "import matplotlib.pyplot as plt\n",
        "import numpy as np\n",
        "\n",
        "# Creating dataset\n",
        "np.random.seed(10)\n",
        "data_1 = np.random.normal(100, 10, 200)\n",
        "data_2 = np.random.normal(90, 20, 200)\n",
        "data_3 = np.random.normal(80, 30, 200)\n",
        "data_4 = np.random.normal(70, 40, 200)\n",
        "data = [data_1, data_2, data_3, data_4]\n",
        "\n",
        "fig = plt.figure(figsize =(10, 7))\n",
        "ax = fig.add_subplot(111)\n",
        "\n",
        "# Creating axes instance\n",
        "bp = ax.boxplot(data, patch_artist = True,\n",
        "\t\t\t\tnotch ='True', vert = 0)\n",
        "\n",
        "colors = ['#0000FF', '#00FF00',\n",
        "\t\t'#FFFF00', '#FF00FF']\n",
        "\n",
        "for patch, color in zip(bp['boxes'], colors):\n",
        "\tpatch.set_facecolor(color)\n",
        "\n",
        "# changing color and linewidth of\n",
        "# whiskers\n",
        "for whisker in bp['whiskers']:\n",
        "\twhisker.set(color ='#8B008B',\n",
        "\t\t\t\tlinewidth = 1.5,\n",
        "\t\t\t\tlinestyle =\":\")\n",
        "\n",
        "# changing color and linewidth of\n",
        "# caps\n",
        "for cap in bp['caps']:\n",
        "\tcap.set(color ='#8B008B',\n",
        "\t\t\tlinewidth = 2)\n",
        "\n",
        "# changing color and linewidth of\n",
        "# medians\n",
        "for median in bp['medians']:\n",
        "\tmedian.set(color ='red',\n",
        "\t\t\tlinewidth = 3)\n",
        "\n",
        "# changing style of fliers\n",
        "for flier in bp['fliers']:\n",
        "\tflier.set(marker ='D',\n",
        "\t\t\tcolor ='#e7298a',\n",
        "\t\t\talpha = 0.5)\n",
        "\t\n",
        "# x-axis labels\n",
        "ax.set_yticklabels(['data_1', 'data_2',\n",
        "\t\t\t\t\t'data_3', 'data_4'])\n",
        "\n",
        "# Adding title\n",
        "plt.title(\"Customized box plot\")\n",
        "\n",
        "# Removing top axes and right axes\n",
        "# ticks\n",
        "ax.get_xaxis().tick_bottom()\n",
        "ax.get_yaxis().tick_left()\n",
        "\t\n",
        "# show plot\n",
        "plt.show(bp)\n"
      ],
      "metadata": {
        "colab": {
          "base_uri": "https://localhost:8080/",
          "height": 444
        },
        "id": "Vx6fyHUoh-Rt",
        "outputId": "99585107-aa3e-4c07-d45f-bff31e1a3399"
      },
      "execution_count": null,
      "outputs": [
        {
          "output_type": "display_data",
          "data": {
            "image/png": "[encoded data removed]",
            "text/plain": [
              "<Figure size 720x504 with 1 Axes>"
            ]
          },
          "metadata": {
            "needs_background": "light"
          }
        }
      ]
    }
  ]
}