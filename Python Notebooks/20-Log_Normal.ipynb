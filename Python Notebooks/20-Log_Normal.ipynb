{
  "nbformat": 4,
  "nbformat_minor": 0,
  "metadata": {
    "colab": {
      "name": "Log-Normal.ipynb",
      "provenance": []
    },
    "kernelspec": {
      "name": "python3",
      "display_name": "Python 3"
    },
    "language_info": {
      "name": "python"
    }
  },
  "cells": [
    {
      "cell_type": "markdown",
      "source": [
        "### Log-Normal Distribution"
      ],
      "metadata": {
        "id": "xCzKSCQ4aglv"
      }
    },
    {
      "cell_type": "code",
      "source": [
        "# importing library\n",
        "\n",
        "from scipy.stats import lognorm\n",
        "\t\n",
        "numargs = lognorm.numargs\n",
        "a, b = 4.32, 3.18\n",
        "rv = lognorm(a, b)\n",
        "\t\n",
        "print (\"RV : \\n\", rv)\n"
      ],
      "metadata": {
        "colab": {
          "base_uri": "https://localhost:8080/"
        },
        "id": "LA9m9z8Haprb",
        "outputId": "77edd17a-e798-4941-9fd6-bfc1883afba6"
      },
      "execution_count": 1,
      "outputs": [
        {
          "output_type": "stream",
          "name": "stdout",
          "text": [
            "RV : \n",
            " <scipy.stats._distn_infrastructure.rv_frozen object at 0x7f523c357190>\n"
          ]
        }
      ]
    },
    {
      "cell_type": "code",
      "source": [
        "import numpy as np\n",
        "quantile = np.arange (0.01, 1, 0.1)\n",
        "\n",
        "# Random Variates\n",
        "R = lognorm.rvs(a, b)\n",
        "print (\"Random Variates : \\n\", R)\n",
        "\n",
        "# PDF\n",
        "R = lognorm.pdf(a, b, quantile)\n",
        "print (\"\\nProbability Distribution : \\n\", R)\n"
      ],
      "metadata": {
        "colab": {
          "base_uri": "https://localhost:8080/"
        },
        "id": "Q8KWvv67arSa",
        "outputId": "c9df6a90-e49c-42cb-f4a5-bef5aec62a49"
      },
      "execution_count": 2,
      "outputs": [
        {
          "output_type": "stream",
          "name": "stdout",
          "text": [
            "Random Variates : \n",
            " 2631.486636589854\n",
            "\n",
            "Probability Distribution : \n",
            " [0.02619234 0.02690484 0.02765301 0.0284395  0.02926727 0.03013955\n",
            " 0.03105993 0.03203241 0.03306142 0.03415191]\n"
          ]
        }
      ]
    },
    {
      "cell_type": "code",
      "source": [
        "import numpy as np\n",
        "import matplotlib.pyplot as plt\n",
        "\t\n",
        "distribution = np.linspace(0, np.minimum(rv.dist.b, 3))\n",
        "print(\"Distribution : \\n\", distribution)\n",
        "\t\n",
        "plot = plt.plot(distribution, rv.pdf(distribution))\n"
      ],
      "metadata": {
        "colab": {
          "base_uri": "https://localhost:8080/",
          "height": 439
        },
        "id": "DFqqiyNWazY_",
        "outputId": "8f707841-9b1c-4fa1-98bb-163e0b5bec13"
      },
      "execution_count": 3,
      "outputs": [
        {
          "output_type": "stream",
          "name": "stdout",
          "text": [
            "Distribution : \n",
            " [0.         0.06122449 0.12244898 0.18367347 0.24489796 0.30612245\n",
            " 0.36734694 0.42857143 0.48979592 0.55102041 0.6122449  0.67346939\n",
            " 0.73469388 0.79591837 0.85714286 0.91836735 0.97959184 1.04081633\n",
            " 1.10204082 1.16326531 1.2244898  1.28571429 1.34693878 1.40816327\n",
            " 1.46938776 1.53061224 1.59183673 1.65306122 1.71428571 1.7755102\n",
            " 1.83673469 1.89795918 1.95918367 2.02040816 2.08163265 2.14285714\n",
            " 2.20408163 2.26530612 2.32653061 2.3877551  2.44897959 2.51020408\n",
            " 2.57142857 2.63265306 2.69387755 2.75510204 2.81632653 2.87755102\n",
            " 2.93877551 3.        ]\n"
          ]
        },
        {
          "output_type": "display_data",
          "data": {
            "image/png": "[encoded data removed]",
            "text/plain": [
              "<Figure size 432x288 with 1 Axes>"
            ]
          },
          "metadata": {
            "needs_background": "light"
          }
        }
      ]
    },
    {
      "cell_type": "code",
      "source": [
        ""
      ],
      "metadata": {
        "id": "WS2F-F_da0os"
      },
      "execution_count": null,
      "outputs": []
    }
  ]
}